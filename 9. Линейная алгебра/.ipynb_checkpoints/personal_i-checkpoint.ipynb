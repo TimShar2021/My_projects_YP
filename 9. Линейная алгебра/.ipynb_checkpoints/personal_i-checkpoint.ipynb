{
 "cells": [
  {
   "cell_type": "code",
   "execution_count": 1,
   "metadata": {},
   "outputs": [],
   "source": [
    "import pandas as pd \n",
    "import numpy as np\n",
    "from sklearn.model_selection import train_test_split\n",
    "from sklearn.preprocessing import StandardScaler\n",
    "from sklearn.linear_model import LinearRegression\n",
    "from sklearn.metrics import r2_score"
   ]
  },
  {
   "cell_type": "markdown",
   "metadata": {
    "toc": true
   },
   "source": [
    "<h1>Содержание<span class=\"tocSkip\"></span></h1>\n",
    "<div class=\"toc\"><ul class=\"toc-item\"><li><span><a href=\"#Загрузка-данных\" data-toc-modified-id=\"Загрузка-данных-1\"><span class=\"toc-item-num\">1&nbsp;&nbsp;</span>Загрузка данных</a></span></li><li><span><a href=\"#Умножение-матриц\" data-toc-modified-id=\"Умножение-матриц-2\"><span class=\"toc-item-num\">2&nbsp;&nbsp;</span>Умножение матриц</a></span></li><li><span><a href=\"#Алгоритм-преобразования\" data-toc-modified-id=\"Алгоритм-преобразования-3\"><span class=\"toc-item-num\">3&nbsp;&nbsp;</span>Алгоритм преобразования</a></span></li><li><span><a href=\"#Проверка-алгоритма\" data-toc-modified-id=\"Проверка-алгоритма-4\"><span class=\"toc-item-num\">4&nbsp;&nbsp;</span>Проверка алгоритма</a></span></li><li><span><a href=\"#Выводы:\" data-toc-modified-id=\"Выводы:-5\"><span class=\"toc-item-num\">5&nbsp;&nbsp;</span>Выводы:</a></span></li><li><span><a href=\"#Чек-лист-проверки\" data-toc-modified-id=\"Чек-лист-проверки-6\"><span class=\"toc-item-num\">6&nbsp;&nbsp;</span>Чек-лист проверки</a></span></li></ul></div>"
   ]
  },
  {
   "cell_type": "markdown",
   "metadata": {},
   "source": [
    "## Загрузка данных"
   ]
  },
  {
   "cell_type": "code",
   "execution_count": 2,
   "metadata": {},
   "outputs": [],
   "source": [
    "try:\n",
    "\n",
    "    df = pd.read_csv('insurance.csv', sep=',')\n",
    "    \n",
    "except:\n",
    "    \n",
    "    df = pd.read_csv('/datasets/insurance.csv', sep=',')\n",
    "   \n",
    "    \n",
    "pd.options.display.max_columns = None"
   ]
  },
  {
   "cell_type": "markdown",
   "metadata": {},
   "source": [
    "Напишем функцию для открытия и просмотра данных:"
   ]
  },
  {
   "cell_type": "code",
   "execution_count": 3,
   "metadata": {},
   "outputs": [],
   "source": [
    "def intro(x):\n",
    "    \"\"\"\n",
    "    принимает: x - датасет\n",
    "       выдаёт: общую информацию, первые пять строк и последние пять строк таблицы, \n",
    "               описание данных и количество дубликатов.\n",
    "             \n",
    "     описание: Функция дает первичную информацию о данных в датасете.\n",
    "    \"\"\"\n",
    "    print('\\033[1m' + 'Общая информация:')\n",
    "    print ('\\033[0m')\n",
    "    display(x.info())\n",
    "    print('\\033[1m' + 'Первые пять строк:')\n",
    "    print ('\\033[0m')\n",
    "    display(x.head())\n",
    "    print('\\033[1m' + 'Последние пять строк:')\n",
    "    print ('\\033[0m')\n",
    "    display(x.tail())\n",
    "    print('\\033[1m' + 'Описание данных:')\n",
    "    print ('\\033[0m')\n",
    "    display(x.describe())  \n",
    "    print('\\033[1m' + 'Дубликаты:')\n",
    "    print ('\\033[0m')\n",
    "    display(x.duplicated().sum())  \n",
    "\n"
   ]
  },
  {
   "cell_type": "markdown",
   "metadata": {},
   "source": [
    "Применим функцию к данным:"
   ]
  },
  {
   "cell_type": "code",
   "execution_count": 4,
   "metadata": {},
   "outputs": [
    {
     "name": "stdout",
     "output_type": "stream",
     "text": [
      "\u001b[1mОбщая информация:\n",
      "\u001b[0m\n",
      "<class 'pandas.core.frame.DataFrame'>\n",
      "RangeIndex: 5000 entries, 0 to 4999\n",
      "Data columns (total 5 columns):\n",
      "Пол                  5000 non-null int64\n",
      "Возраст              5000 non-null float64\n",
      "Зарплата             5000 non-null float64\n",
      "Члены семьи          5000 non-null int64\n",
      "Страховые выплаты    5000 non-null int64\n",
      "dtypes: float64(2), int64(3)\n",
      "memory usage: 195.4 KB\n"
     ]
    },
    {
     "data": {
      "text/plain": [
       "None"
      ]
     },
     "metadata": {},
     "output_type": "display_data"
    },
    {
     "name": "stdout",
     "output_type": "stream",
     "text": [
      "\u001b[1mПервые пять строк:\n",
      "\u001b[0m\n"
     ]
    },
    {
     "data": {
      "text/html": [
       "<div>\n",
       "<style scoped>\n",
       "    .dataframe tbody tr th:only-of-type {\n",
       "        vertical-align: middle;\n",
       "    }\n",
       "\n",
       "    .dataframe tbody tr th {\n",
       "        vertical-align: top;\n",
       "    }\n",
       "\n",
       "    .dataframe thead th {\n",
       "        text-align: right;\n",
       "    }\n",
       "</style>\n",
       "<table border=\"1\" class=\"dataframe\">\n",
       "  <thead>\n",
       "    <tr style=\"text-align: right;\">\n",
       "      <th></th>\n",
       "      <th>Пол</th>\n",
       "      <th>Возраст</th>\n",
       "      <th>Зарплата</th>\n",
       "      <th>Члены семьи</th>\n",
       "      <th>Страховые выплаты</th>\n",
       "    </tr>\n",
       "  </thead>\n",
       "  <tbody>\n",
       "    <tr>\n",
       "      <td>0</td>\n",
       "      <td>1</td>\n",
       "      <td>41.0</td>\n",
       "      <td>49600.0</td>\n",
       "      <td>1</td>\n",
       "      <td>0</td>\n",
       "    </tr>\n",
       "    <tr>\n",
       "      <td>1</td>\n",
       "      <td>0</td>\n",
       "      <td>46.0</td>\n",
       "      <td>38000.0</td>\n",
       "      <td>1</td>\n",
       "      <td>1</td>\n",
       "    </tr>\n",
       "    <tr>\n",
       "      <td>2</td>\n",
       "      <td>0</td>\n",
       "      <td>29.0</td>\n",
       "      <td>21000.0</td>\n",
       "      <td>0</td>\n",
       "      <td>0</td>\n",
       "    </tr>\n",
       "    <tr>\n",
       "      <td>3</td>\n",
       "      <td>0</td>\n",
       "      <td>21.0</td>\n",
       "      <td>41700.0</td>\n",
       "      <td>2</td>\n",
       "      <td>0</td>\n",
       "    </tr>\n",
       "    <tr>\n",
       "      <td>4</td>\n",
       "      <td>1</td>\n",
       "      <td>28.0</td>\n",
       "      <td>26100.0</td>\n",
       "      <td>0</td>\n",
       "      <td>0</td>\n",
       "    </tr>\n",
       "  </tbody>\n",
       "</table>\n",
       "</div>"
      ],
      "text/plain": [
       "   Пол  Возраст  Зарплата  Члены семьи  Страховые выплаты\n",
       "0    1     41.0   49600.0            1                  0\n",
       "1    0     46.0   38000.0            1                  1\n",
       "2    0     29.0   21000.0            0                  0\n",
       "3    0     21.0   41700.0            2                  0\n",
       "4    1     28.0   26100.0            0                  0"
      ]
     },
     "metadata": {},
     "output_type": "display_data"
    },
    {
     "name": "stdout",
     "output_type": "stream",
     "text": [
      "\u001b[1mПоследние пять строк:\n",
      "\u001b[0m\n"
     ]
    },
    {
     "data": {
      "text/html": [
       "<div>\n",
       "<style scoped>\n",
       "    .dataframe tbody tr th:only-of-type {\n",
       "        vertical-align: middle;\n",
       "    }\n",
       "\n",
       "    .dataframe tbody tr th {\n",
       "        vertical-align: top;\n",
       "    }\n",
       "\n",
       "    .dataframe thead th {\n",
       "        text-align: right;\n",
       "    }\n",
       "</style>\n",
       "<table border=\"1\" class=\"dataframe\">\n",
       "  <thead>\n",
       "    <tr style=\"text-align: right;\">\n",
       "      <th></th>\n",
       "      <th>Пол</th>\n",
       "      <th>Возраст</th>\n",
       "      <th>Зарплата</th>\n",
       "      <th>Члены семьи</th>\n",
       "      <th>Страховые выплаты</th>\n",
       "    </tr>\n",
       "  </thead>\n",
       "  <tbody>\n",
       "    <tr>\n",
       "      <td>4995</td>\n",
       "      <td>0</td>\n",
       "      <td>28.0</td>\n",
       "      <td>35700.0</td>\n",
       "      <td>2</td>\n",
       "      <td>0</td>\n",
       "    </tr>\n",
       "    <tr>\n",
       "      <td>4996</td>\n",
       "      <td>0</td>\n",
       "      <td>34.0</td>\n",
       "      <td>52400.0</td>\n",
       "      <td>1</td>\n",
       "      <td>0</td>\n",
       "    </tr>\n",
       "    <tr>\n",
       "      <td>4997</td>\n",
       "      <td>0</td>\n",
       "      <td>20.0</td>\n",
       "      <td>33900.0</td>\n",
       "      <td>2</td>\n",
       "      <td>0</td>\n",
       "    </tr>\n",
       "    <tr>\n",
       "      <td>4998</td>\n",
       "      <td>1</td>\n",
       "      <td>22.0</td>\n",
       "      <td>32700.0</td>\n",
       "      <td>3</td>\n",
       "      <td>0</td>\n",
       "    </tr>\n",
       "    <tr>\n",
       "      <td>4999</td>\n",
       "      <td>1</td>\n",
       "      <td>28.0</td>\n",
       "      <td>40600.0</td>\n",
       "      <td>1</td>\n",
       "      <td>0</td>\n",
       "    </tr>\n",
       "  </tbody>\n",
       "</table>\n",
       "</div>"
      ],
      "text/plain": [
       "      Пол  Возраст  Зарплата  Члены семьи  Страховые выплаты\n",
       "4995    0     28.0   35700.0            2                  0\n",
       "4996    0     34.0   52400.0            1                  0\n",
       "4997    0     20.0   33900.0            2                  0\n",
       "4998    1     22.0   32700.0            3                  0\n",
       "4999    1     28.0   40600.0            1                  0"
      ]
     },
     "metadata": {},
     "output_type": "display_data"
    },
    {
     "name": "stdout",
     "output_type": "stream",
     "text": [
      "\u001b[1mОписание данных:\n",
      "\u001b[0m\n"
     ]
    },
    {
     "data": {
      "text/html": [
       "<div>\n",
       "<style scoped>\n",
       "    .dataframe tbody tr th:only-of-type {\n",
       "        vertical-align: middle;\n",
       "    }\n",
       "\n",
       "    .dataframe tbody tr th {\n",
       "        vertical-align: top;\n",
       "    }\n",
       "\n",
       "    .dataframe thead th {\n",
       "        text-align: right;\n",
       "    }\n",
       "</style>\n",
       "<table border=\"1\" class=\"dataframe\">\n",
       "  <thead>\n",
       "    <tr style=\"text-align: right;\">\n",
       "      <th></th>\n",
       "      <th>Пол</th>\n",
       "      <th>Возраст</th>\n",
       "      <th>Зарплата</th>\n",
       "      <th>Члены семьи</th>\n",
       "      <th>Страховые выплаты</th>\n",
       "    </tr>\n",
       "  </thead>\n",
       "  <tbody>\n",
       "    <tr>\n",
       "      <td>count</td>\n",
       "      <td>5000.000000</td>\n",
       "      <td>5000.000000</td>\n",
       "      <td>5000.000000</td>\n",
       "      <td>5000.000000</td>\n",
       "      <td>5000.000000</td>\n",
       "    </tr>\n",
       "    <tr>\n",
       "      <td>mean</td>\n",
       "      <td>0.499000</td>\n",
       "      <td>30.952800</td>\n",
       "      <td>39916.360000</td>\n",
       "      <td>1.194200</td>\n",
       "      <td>0.148000</td>\n",
       "    </tr>\n",
       "    <tr>\n",
       "      <td>std</td>\n",
       "      <td>0.500049</td>\n",
       "      <td>8.440807</td>\n",
       "      <td>9900.083569</td>\n",
       "      <td>1.091387</td>\n",
       "      <td>0.463183</td>\n",
       "    </tr>\n",
       "    <tr>\n",
       "      <td>min</td>\n",
       "      <td>0.000000</td>\n",
       "      <td>18.000000</td>\n",
       "      <td>5300.000000</td>\n",
       "      <td>0.000000</td>\n",
       "      <td>0.000000</td>\n",
       "    </tr>\n",
       "    <tr>\n",
       "      <td>25%</td>\n",
       "      <td>0.000000</td>\n",
       "      <td>24.000000</td>\n",
       "      <td>33300.000000</td>\n",
       "      <td>0.000000</td>\n",
       "      <td>0.000000</td>\n",
       "    </tr>\n",
       "    <tr>\n",
       "      <td>50%</td>\n",
       "      <td>0.000000</td>\n",
       "      <td>30.000000</td>\n",
       "      <td>40200.000000</td>\n",
       "      <td>1.000000</td>\n",
       "      <td>0.000000</td>\n",
       "    </tr>\n",
       "    <tr>\n",
       "      <td>75%</td>\n",
       "      <td>1.000000</td>\n",
       "      <td>37.000000</td>\n",
       "      <td>46600.000000</td>\n",
       "      <td>2.000000</td>\n",
       "      <td>0.000000</td>\n",
       "    </tr>\n",
       "    <tr>\n",
       "      <td>max</td>\n",
       "      <td>1.000000</td>\n",
       "      <td>65.000000</td>\n",
       "      <td>79000.000000</td>\n",
       "      <td>6.000000</td>\n",
       "      <td>5.000000</td>\n",
       "    </tr>\n",
       "  </tbody>\n",
       "</table>\n",
       "</div>"
      ],
      "text/plain": [
       "               Пол      Возраст      Зарплата  Члены семьи  Страховые выплаты\n",
       "count  5000.000000  5000.000000   5000.000000  5000.000000        5000.000000\n",
       "mean      0.499000    30.952800  39916.360000     1.194200           0.148000\n",
       "std       0.500049     8.440807   9900.083569     1.091387           0.463183\n",
       "min       0.000000    18.000000   5300.000000     0.000000           0.000000\n",
       "25%       0.000000    24.000000  33300.000000     0.000000           0.000000\n",
       "50%       0.000000    30.000000  40200.000000     1.000000           0.000000\n",
       "75%       1.000000    37.000000  46600.000000     2.000000           0.000000\n",
       "max       1.000000    65.000000  79000.000000     6.000000           5.000000"
      ]
     },
     "metadata": {},
     "output_type": "display_data"
    },
    {
     "name": "stdout",
     "output_type": "stream",
     "text": [
      "\u001b[1mДубликаты:\n",
      "\u001b[0m\n"
     ]
    },
    {
     "data": {
      "text/plain": [
       "153"
      ]
     },
     "metadata": {},
     "output_type": "display_data"
    }
   ],
   "source": [
    "intro(df)"
   ]
  },
  {
   "cell_type": "markdown",
   "metadata": {},
   "source": [
    "В данных нет пропусков но есть, дубликаты удалим их  проверим"
   ]
  },
  {
   "cell_type": "code",
   "execution_count": 5,
   "metadata": {},
   "outputs": [
    {
     "data": {
      "text/plain": [
       "0"
      ]
     },
     "execution_count": 5,
     "metadata": {},
     "output_type": "execute_result"
    }
   ],
   "source": [
    "df = df.drop_duplicates()\n",
    "df.duplicated().sum() "
   ]
  },
  {
   "cell_type": "markdown",
   "metadata": {},
   "source": [
    "Выводы:\n",
    "\n",
    "Описание данных:\n",
    "    \n",
    "Признаки: пол, возраст и зарплата застрахованного, количество членов его семьи.\n",
    "    \n",
    "Целевой признак: количество страховых выплат клиенту за последние 5 лет.\n",
    "    \n",
    "В данных нет пропусков были дубликаты мы их удалили можно приступать к их изменеию."
   ]
  },
  {
   "cell_type": "markdown",
   "metadata": {},
   "source": [
    "## Умножение матриц"
   ]
  },
  {
   "cell_type": "markdown",
   "metadata": {},
   "source": [
    "Задание:\n",
    "\n",
    "   Признаки умножают на обратимую матрицу. Изменится ли качество линейной регрессии? (Её можно обучить заново.)\n",
    "   \n",
    "       a. Изменится.\n",
    "       \n",
    "       b. Не изменится. "
   ]
  },
  {
   "cell_type": "markdown",
   "metadata": {},
   "source": [
    "Обозначения:\n",
    "\n",
    "- $X$ — матрица признаков (нулевой столбец состоит из единиц)\n",
    "\n",
    "- $y$ — вектор целевого признака\n",
    "\n",
    "- $P$ — матрица, на которую умножаются признаки\n",
    "\n",
    "- $w$ — вектор весов линейной регрессии (нулевой элемент равен сдвигу)"
   ]
  },
  {
   "cell_type": "markdown",
   "metadata": {},
   "source": [
    "Предсказания:\n",
    "\n",
    "$$\n",
    "a = Xw\n",
    "$$\n",
    "\n",
    "Задача обучения:\n",
    "\n",
    "$$\n",
    "w = \\arg\\min_w MSE(Xw, y)\n",
    "$$\n",
    "\n",
    "Формула обучения:\n",
    "\n",
    "$$\n",
    "w = (X^T X)^{-1} X^T y\n",
    "$$a = Xw"
   ]
  },
  {
   "cell_type": "markdown",
   "metadata": {},
   "source": [
    "**Ответ:** \n",
    "\n",
    "    b. Не изменится."
   ]
  },
  {
   "cell_type": "markdown",
   "metadata": {},
   "source": [
    "**Обоснование:** \n",
    "\n",
    "Тогда:\n",
    " \n",
    "$$\n",
    "Z = XP\n",
    "$$\n",
    "\n",
    "$$\n",
    "a'= Zw\n",
    "$$\n",
    "\n",
    "$$\n",
    "w' = (Z^T Z)^{-1} Z^T y\n",
    "$$\n",
    "\n",
    "Нужнодоказать что:\n",
    "\n",
    "$$\n",
    "a = a'\n",
    "$$\n",
    "\n",
    "\n"
   ]
  },
  {
   "cell_type": "markdown",
   "metadata": {},
   "source": [
    "Заменим Z на XP в формуле w':\n",
    "\n",
    "$$\n",
    "w' = ((XP)^TXP)^{-1}(XP)^Ty\n",
    "$$\n",
    "\n",
    "Тогда:\n",
    "\n",
    "$$\n",
    "a' = XP((XP)^T(XP)^{-1}(XP)^Ty)\n",
    "$$\n",
    "\n",
    "Так как:\n",
    "\n",
    "$$\n",
    "(XP)^{-1} = X^{-1}P{-1}\n",
    "$$\n",
    "\n",
    "Тогда:\n",
    "\n",
    "$$\n",
    "a' = XP(XP)^{-1}((XP)^T)^{-1}(XP)^Ty = XPP^{-1}X^{-1}((XP)^T)^{-1}(XP)^Ty\n",
    "$$ \n",
    "\n",
    "Так как:\n",
    "\n",
    "$$\n",
    "PP^{-1}=E\n",
    "$$\n",
    "\n",
    "$E$ - единичная матрица \n",
    "\n",
    "То:\n",
    "\n",
    "$$ \n",
    "a' = XEX^{-1}((XP)^T)^{-1}(XP)^Ty \n",
    "$$\n",
    "\n",
    "Используя свойство транспонированной матрицы:\n",
    "\n",
    "$$\n",
    "(XP)^T = X^TP^T\n",
    "$$\n",
    "\n",
    "Получим:\n",
    "$$\n",
    "a' = XEX^{-1}((XP)^T)^{-1}(XP)^Ty = XEX^{-1}(X^T)^{-1}(P^T)^{-1}X^TP^Ty\n",
    "$$\n",
    "\n",
    "Учитывая что:\n",
    "\n",
    "$$\n",
    "(P^T)^{-1}P^T = E\n",
    "$$\n",
    "\n",
    "То:\n",
    "$$\n",
    "a' = XEX^{-1}(X^T)^{-1}X^TEy\n",
    "$$\n",
    "\n",
    "Зная что единичная матрица при умножении не меняет умножаемую на неё матрицу,получим:\n",
    "\n",
    "$$\n",
    "a' = XX^{-1}(X^T)^{-1}X^Ty = X(X^TX)^{-1}X^Ty = Xw = a \n",
    "$$"
   ]
  },
  {
   "cell_type": "markdown",
   "metadata": {},
   "source": [
    "Как видно, значение предсказаний $a$ не меняется, если умножать матрицу признаков на обратимую матрицу."
   ]
  },
  {
   "cell_type": "markdown",
   "metadata": {},
   "source": [
    "## Алгоритм преобразования"
   ]
  },
  {
   "cell_type": "markdown",
   "metadata": {},
   "source": [
    "**Алгоритм**\n",
    "\n",
    "1. Создадим обратимую матрицу P которая будет иметь размерность n * n, где n к\n",
    "количество исходных признаков.\n",
    "2. Умножим исходную матрицу Х на матрицу P\n",
    "3. Получим веса на исходных данных\n",
    "4. Получим веса на измененных признаках матрицы Z\n",
    "5. Получим векторы предсказаний с исходных данных и с измененнных,они должны почти не отличаться"
   ]
  },
  {
   "cell_type": "markdown",
   "metadata": {},
   "source": [
    "**Обоснование**\n",
    "\n",
    "Допустим:\n",
    "\n",
    "$ X = \\begin{bmatrix}1 & 2 \\\\3 & 4 \\\\5 & 6\\end{bmatrix}$\n",
    "\n",
    "$ y = \\begin{bmatrix}1\\\\0\\\\1\\end{bmatrix}$"
   ]
  },
  {
   "cell_type": "code",
   "execution_count": 6,
   "metadata": {},
   "outputs": [],
   "source": [
    "X = np.array([\n",
    "    [1, 2],\n",
    "    [3, 4],\n",
    "    [5, 6]]) \n",
    "\n",
    "y = np.array([1,0,1])"
   ]
  },
  {
   "cell_type": "markdown",
   "metadata": {},
   "source": [
    "Создадим обртимую матрицу:\n",
    "\n",
    "$P = \\begin{bmatrix}1 & 0 \\\\2 & 3 \\end{bmatrix}$"
   ]
  },
  {
   "cell_type": "code",
   "execution_count": 7,
   "metadata": {},
   "outputs": [],
   "source": [
    "P = np.array([\n",
    "    [1, 0],\n",
    "    [2, 3],]) "
   ]
  },
  {
   "cell_type": "markdown",
   "metadata": {},
   "source": [
    "Получим матрицу Z умножив исходные признаки на обратимую матрицу:\n",
    "\n",
    "$Z = \\begin{bmatrix}1 & 2 \\\\3 & 4 \\\\5 & 6\\end{bmatrix} \n",
    "\\begin{bmatrix}1 & 0 \\\\2 & 3 \\end{bmatrix}$ = $\\begin{bmatrix}1*1 + 2*2 & 1*0 + 2*3\\\\3*1 + 4*2 & 3*0 + 4*3\\\\5*1 + 6*2 & 5*0 + 6*3 \\end{bmatrix}$ = $\\begin{bmatrix}5 & 6 \\\\11 & 12 \\\\17 & 18\\end{bmatrix}$ "
   ]
  },
  {
   "cell_type": "code",
   "execution_count": 8,
   "metadata": {},
   "outputs": [],
   "source": [
    "Z = X @ P"
   ]
  },
  {
   "cell_type": "markdown",
   "metadata": {},
   "source": [
    "Тогда :\n",
    "\n",
    "$w = (X^T X)^{-1} X^T y$"
   ]
  },
  {
   "cell_type": "code",
   "execution_count": 9,
   "metadata": {},
   "outputs": [],
   "source": [
    "w = np.linalg.matrix_power(X.T @ X,-1)@X.T@y"
   ]
  },
  {
   "cell_type": "markdown",
   "metadata": {},
   "source": [
    "$ w' = (Z^T Z)^{-1} Z^T y $"
   ]
  },
  {
   "cell_type": "code",
   "execution_count": 10,
   "metadata": {},
   "outputs": [],
   "source": [
    "w1 = np.linalg.matrix_power(Z.T @ Z,-1)@Z.T@y"
   ]
  },
  {
   "cell_type": "markdown",
   "metadata": {},
   "source": [
    "$a = Xw$"
   ]
  },
  {
   "cell_type": "code",
   "execution_count": 11,
   "metadata": {},
   "outputs": [],
   "source": [
    "a = X @ w"
   ]
  },
  {
   "cell_type": "markdown",
   "metadata": {},
   "source": [
    "$a'= Zw$"
   ]
  },
  {
   "cell_type": "code",
   "execution_count": 12,
   "metadata": {},
   "outputs": [],
   "source": [
    "a1 = Z @ w"
   ]
  },
  {
   "cell_type": "markdown",
   "metadata": {},
   "source": [
    "Проверим разницу:"
   ]
  },
  {
   "cell_type": "code",
   "execution_count": 13,
   "metadata": {},
   "outputs": [
    {
     "name": "stdout",
     "output_type": "stream",
     "text": [
      "\u001b[1mВектор разниц между прогнозами :\n",
      "\u001b[0m\n",
      "[-1.06581410e-14 -2.13162821e-14 -3.28626015e-14]\n"
     ]
    }
   ],
   "source": [
    "print('\\033[1m' + 'Вектор разниц между прогнозами :')\n",
    "print ('\\033[0m')\n",
    "print(a-a1)"
   ]
  },
  {
   "cell_type": "markdown",
   "metadata": {},
   "source": [
    "Как видно из вектора выше разница между векторами предсказанй минимальна."
   ]
  },
  {
   "cell_type": "markdown",
   "metadata": {},
   "source": [
    "## Проверка алгоритма"
   ]
  },
  {
   "cell_type": "markdown",
   "metadata": {},
   "source": [
    "Подготовим данные:"
   ]
  },
  {
   "cell_type": "code",
   "execution_count": 14,
   "metadata": {},
   "outputs": [],
   "source": [
    "features = df.drop('Страховые выплаты',axis=1)\n",
    "target = df['Страховые выплаты']"
   ]
  },
  {
   "cell_type": "markdown",
   "metadata": {},
   "source": [
    "Напишем функцию которая будет возвращать R2 модели: "
   ]
  },
  {
   "cell_type": "code",
   "execution_count": 15,
   "metadata": {},
   "outputs": [],
   "source": [
    "def stage(features, target, label):\n",
    "    \"\"\"\n",
    "    принимает: features - признаки; \n",
    "               target - целевой признак; \n",
    "               label  - сюда передаем название;\n",
    "       выдаёт: печатет R2; \n",
    "               label - название; \n",
    "             \n",
    "     описание: функция разделяет выборку на обучающую и тестовую, \n",
    "     обучает модель, считает, выводит на экран и возвращает метрику R2; \n",
    "   возвращает: R2 -метрику качества модели;\n",
    "    \"\"\"\n",
    "    features_train, features_test, target_train, target_test = train_test_split(\n",
    "    features, target, test_size=0.25, random_state=18754)\n",
    "    \n",
    "    model = LinearRegression()\n",
    "    model.fit(features_train, target_train)\n",
    "    R2 = r2_score(target_test, model.predict(features_test))\n",
    "    print('\\033[1m' + label)\n",
    "    print ('\\033[0m')\n",
    "    print(R2)\n",
    "    return R2"
   ]
  },
  {
   "cell_type": "markdown",
   "metadata": {},
   "source": [
    "Исследуем качество модели без преобразования:"
   ]
  },
  {
   "cell_type": "code",
   "execution_count": 16,
   "metadata": {},
   "outputs": [
    {
     "name": "stdout",
     "output_type": "stream",
     "text": [
      "\u001b[1mR2 модели на данных без преобразованя:\n",
      "\u001b[0m\n",
      "0.4185270946395728\n"
     ]
    }
   ],
   "source": [
    "R2_0 = stage(features,target,'R2 модели на данных без преобразованя:')"
   ]
  },
  {
   "cell_type": "markdown",
   "metadata": {},
   "source": [
    "Напишем функцию для преобразования данных:"
   ]
  },
  {
   "cell_type": "code",
   "execution_count": 17,
   "metadata": {},
   "outputs": [],
   "source": [
    "def stage_2(features):\n",
    "    \"\"\"\n",
    "    принимает: features - признаки; \n",
    "   возвращает: ch_features - изменённые признаки;\n",
    "             \n",
    "     описание: функция создает обратимую матрицу M, \n",
    "     умножает на неё переданные ей признаки, \n",
    "     и возвращает получившиеся признаки; \n",
    "    \"\"\"\n",
    "    ch_features = features\n",
    "    n = features.shape[1]\n",
    "    np.random.seed(180790)\n",
    "    M = np.random.randint(1, 10, (n,n))\n",
    "    det = np.linalg.det(M)\n",
    "    while det == 0:\n",
    "        np.random.seed(180790)\n",
    "        M = np.random.randint(1, 10, (n,n))\n",
    "        det = np.linalg.det(M)\n",
    "    ch_features = ch_features @ M\n",
    "    return ch_features"
   ]
  },
  {
   "cell_type": "markdown",
   "metadata": {},
   "source": [
    "Преобразуем наши признаки:"
   ]
  },
  {
   "cell_type": "code",
   "execution_count": 18,
   "metadata": {},
   "outputs": [],
   "source": [
    "features_1 = stage_2(features)"
   ]
  },
  {
   "cell_type": "markdown",
   "metadata": {},
   "source": [
    "Проверим что признаки изменились:"
   ]
  },
  {
   "cell_type": "code",
   "execution_count": 19,
   "metadata": {},
   "outputs": [
    {
     "name": "stdout",
     "output_type": "stream",
     "text": [
      "\u001b[1mПризнаки до изменения:\n",
      "\u001b[0m\n",
      "   Пол  Возраст  Зарплата  Члены семьи\n",
      "0    1     41.0   49600.0            1\n",
      "1    0     46.0   38000.0            1\n",
      "2    0     29.0   21000.0            0\n",
      "3    0     21.0   41700.0            2\n",
      "4    1     28.0   26100.0            0\n",
      "\n",
      "\u001b[1mПризнаки после изменения:\n",
      "\u001b[0m\n",
      "          0         1         2         3\n",
      "0  297732.0  446617.0  297654.0  297810.0\n",
      "1  228146.0  342237.0  228054.0  228234.0\n",
      "2  126087.0  189145.0  126029.0  126145.0\n",
      "3  250279.0  375419.0  250237.0  250313.0\n",
      "4  156685.0  235045.0  156633.0  156741.0\n"
     ]
    }
   ],
   "source": [
    "print('\\033[1m' + 'Признаки до изменения:')\n",
    "print ('\\033[0m')\n",
    "print(features.head())\n",
    "print()\n",
    "print('\\033[1m' + 'Признаки после изменения:')\n",
    "print ('\\033[0m')\n",
    "print(features_1.head())\n",
    "    "
   ]
  },
  {
   "cell_type": "markdown",
   "metadata": {},
   "source": [
    "Как видим признаки изменились, проверим изменилось ли качество вычислений:"
   ]
  },
  {
   "cell_type": "markdown",
   "metadata": {},
   "source": [
    "Получим R2 передав функции stage новые признаки:"
   ]
  },
  {
   "cell_type": "code",
   "execution_count": 20,
   "metadata": {},
   "outputs": [
    {
     "name": "stdout",
     "output_type": "stream",
     "text": [
      "\u001b[1mR2 модели на данных после преобразованя:\n",
      "\u001b[0m\n",
      "0.41852709463986804\n"
     ]
    }
   ],
   "source": [
    "R2_1 = stage(features_1,target,'R2 модели на данных после преобразованя:')"
   ]
  },
  {
   "cell_type": "markdown",
   "metadata": {},
   "source": [
    "Проверим разницу:"
   ]
  },
  {
   "cell_type": "code",
   "execution_count": 21,
   "metadata": {},
   "outputs": [
    {
     "name": "stdout",
     "output_type": "stream",
     "text": [
      "\u001b[1mРазница в качестве полученных предсказаний по метрике R2:\n",
      "\u001b[0m\n",
      "-2.952083022478291e-13\n"
     ]
    }
   ],
   "source": [
    "print('\\033[1m' + 'Разница в качестве полученных предсказаний по метрике R2:')\n",
    "print ('\\033[0m')\n",
    "print(R2_0 -R2_1)"
   ]
  },
  {
   "cell_type": "markdown",
   "metadata": {},
   "source": [
    "Как видно разница в метрике R2 не существенная"
   ]
  },
  {
   "cell_type": "markdown",
   "metadata": {},
   "source": [
    "## Выводы:\n",
    "\n",
    "* Загружены и изучены данные.\n",
    "* Значение предсказаний ЛР не меняется, если умножать \n",
    "  матрицу признаков на обратимую матрицу.\n",
    "* Создан алгоритм преобразования данных.\n",
    "* Данные преобразованы, и проверено качество модели метрикой R2,\n",
    "  на исходных и преобразованных данных. \n",
    "  Разница в значениях метрики R2 есть, но она не существенная."
   ]
  }
 ],
 "metadata": {
  "kernelspec": {
   "display_name": "Python 3",
   "language": "python",
   "name": "python3"
  },
  "language_info": {
   "codemirror_mode": {
    "name": "ipython",
    "version": 3
   },
   "file_extension": ".py",
   "mimetype": "text/x-python",
   "name": "python",
   "nbconvert_exporter": "python",
   "pygments_lexer": "ipython3",
   "version": "3.8.5"
  },
  "toc": {
   "base_numbering": 1,
   "nav_menu": {},
   "number_sections": true,
   "sideBar": true,
   "skip_h1_title": true,
   "title_cell": "Содержание",
   "title_sidebar": "Contents",
   "toc_cell": true,
   "toc_position": {},
   "toc_section_display": true,
   "toc_window_display": false
  }
 },
 "nbformat": 4,
 "nbformat_minor": 2
}
